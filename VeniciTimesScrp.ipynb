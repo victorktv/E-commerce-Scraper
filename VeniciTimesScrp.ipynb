{
 "cells": [
  {
   "cell_type": "code",
   "execution_count": 106,
   "metadata": {},
   "outputs": [],
   "source": [
    "import pandas as pd\n",
    "import numpy as np\n",
    "\n",
    "from bs4 import BeautifulSoup\n",
    "import requests\n",
    "from selenium import webdriver\n",
    "\n",
    "import time\n",
    "import re\n",
    "from urllib.request import urlopen\n",
    "import json\n",
    "from pandas.io.json import json_normalize\n"
   ]
  },
  {
   "cell_type": "code",
   "execution_count": 108,
   "metadata": {},
   "outputs": [],
   "source": [
    "response = requests.get('https://venicitimes.com/collections/watches')\n",
    "html = response.text\n",
    "soup = BeautifulSoup(html, 'lxml')"
   ]
  },
  {
   "cell_type": "code",
   "execution_count": 109,
   "metadata": {},
   "outputs": [],
   "source": [
    "script = soup.find('script', text = re.compile('var meta')).text.strip()[182:-79].replace('\\\\', '')\n",
    "data = json.loads(script)"
   ]
  },
  {
   "cell_type": "code",
   "execution_count": 110,
   "metadata": {},
   "outputs": [],
   "source": [
    "watches = data['products']"
   ]
  },
  {
   "cell_type": "code",
   "execution_count": 111,
   "metadata": {},
   "outputs": [],
   "source": [
    "df_read = pd.DataFrame(watches)\n",
    "\n",
    "watches_again = df_read['variants'][2][0]"
   ]
  },
  {
   "cell_type": "code",
   "execution_count": 112,
   "metadata": {},
   "outputs": [],
   "source": [
    "df_read = pd.DataFrame(watches)\n",
    "\n",
    "watches_again = df_read['variants'][2][0]\n",
    "\n",
    "dict_watches = {}\n",
    "\n",
    "for i in range(0, len(watches)-1) :\n",
    "    dict_watches[df_read['variants'][i][0]['name']] = df_read['variants'][i][0]"
   ]
  },
  {
   "cell_type": "code",
   "execution_count": 113,
   "metadata": {},
   "outputs": [
    {
     "data": {
      "text/html": [
       "<div>\n",
       "<style scoped>\n",
       "    .dataframe tbody tr th:only-of-type {\n",
       "        vertical-align: middle;\n",
       "    }\n",
       "\n",
       "    .dataframe tbody tr th {\n",
       "        vertical-align: top;\n",
       "    }\n",
       "\n",
       "    .dataframe thead th {\n",
       "        text-align: right;\n",
       "    }\n",
       "</style>\n",
       "<table border=\"1\" class=\"dataframe\">\n",
       "  <thead>\n",
       "    <tr style=\"text-align: right;\">\n",
       "      <th></th>\n",
       "      <th>price</th>\n",
       "      <th>sku</th>\n",
       "    </tr>\n",
       "    <tr>\n",
       "      <th>name</th>\n",
       "      <th></th>\n",
       "      <th></th>\n",
       "    </tr>\n",
       "  </thead>\n",
       "  <tbody>\n",
       "    <tr>\n",
       "      <th>CAESAR'S GOLD</th>\n",
       "      <td>175.0</td>\n",
       "      <td>VTBG01001</td>\n",
       "    </tr>\n",
       "    <tr>\n",
       "      <th>CAESAR'S SILVER</th>\n",
       "      <td>140.0</td>\n",
       "      <td>VTCS01001</td>\n",
       "    </tr>\n",
       "    <tr>\n",
       "      <th>MERCURY</th>\n",
       "      <td>130.0</td>\n",
       "      <td>VTMB01004</td>\n",
       "    </tr>\n",
       "    <tr>\n",
       "      <th>ATHENA</th>\n",
       "      <td>110.0</td>\n",
       "      <td>VTWW01003</td>\n",
       "    </tr>\n",
       "    <tr>\n",
       "      <th>HERA</th>\n",
       "      <td>90.0</td>\n",
       "      <td>VTWW01003</td>\n",
       "    </tr>\n",
       "    <tr>\n",
       "      <th>MERCURY - LEATHER</th>\n",
       "      <td>180.0</td>\n",
       "      <td>VTMB01004</td>\n",
       "    </tr>\n",
       "    <tr>\n",
       "      <th>ATHENA - LEATHER</th>\n",
       "      <td>110.0</td>\n",
       "      <td>VTWW01003</td>\n",
       "    </tr>\n",
       "    <tr>\n",
       "      <th>Celeste - Dark</th>\n",
       "      <td>120.0</td>\n",
       "      <td></td>\n",
       "    </tr>\n",
       "  </tbody>\n",
       "</table>\n",
       "</div>"
      ],
      "text/plain": [
       "                   price        sku\n",
       "name                               \n",
       "CAESAR'S GOLD      175.0  VTBG01001\n",
       "CAESAR'S SILVER    140.0  VTCS01001\n",
       "MERCURY            130.0  VTMB01004\n",
       "ATHENA             110.0  VTWW01003\n",
       "HERA                90.0  VTWW01003\n",
       "MERCURY - LEATHER  180.0  VTMB01004\n",
       "ATHENA - LEATHER   110.0  VTWW01003\n",
       "Celeste - Dark     120.0           "
      ]
     },
     "execution_count": 113,
     "metadata": {},
     "output_type": "execute_result"
    }
   ],
   "source": [
    "df_final = pd.DataFrame(dict_watches).transpose().drop(columns=['id', 'public_title']).set_index('name')\n",
    "\n",
    "df_final['price'] = df_final['price'] / 100\n",
    "\n",
    "df_final\n"
   ]
  }
 ],
 "metadata": {
  "kernelspec": {
   "display_name": "Python 3.10.8 ('shark0x000': venv)",
   "language": "python",
   "name": "python3"
  },
  "language_info": {
   "codemirror_mode": {
    "name": "ipython",
    "version": 3
   },
   "file_extension": ".py",
   "mimetype": "text/x-python",
   "name": "python",
   "nbconvert_exporter": "python",
   "pygments_lexer": "ipython3",
   "version": "3.10.8"
  },
  "orig_nbformat": 4,
  "vscode": {
   "interpreter": {
    "hash": "2dcde58cece017c2190cdecc331ba0643f9a2ae4e0d324dbc2f9a2b2eaf4dc88"
   }
  }
 },
 "nbformat": 4,
 "nbformat_minor": 2
}
